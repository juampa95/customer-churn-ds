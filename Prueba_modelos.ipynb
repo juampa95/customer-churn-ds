{
 "cells": [
  {
   "cell_type": "code",
   "execution_count": 1,
   "id": "1cc737fd",
   "metadata": {},
   "outputs": [],
   "source": [
    "%run data_acquisition.ipynb"
   ]
  },
  {
   "cell_type": "markdown",
   "id": "8ed26376",
   "metadata": {},
   "source": [
    "Traemos los datos"
   ]
  },
  {
   "cell_type": "markdown",
   "id": "9ccd8447",
   "metadata": {},
   "source": [
    "Vamos a hacer algunas transformaciones en los datos para probar un modelo de regresion logistica con y sin ellas."
   ]
  },
  {
   "cell_type": "code",
   "execution_count": 2,
   "id": "f528fdd7",
   "metadata": {},
   "outputs": [],
   "source": [
    "cat_columns = bank_df.drop('Attrition_Flag',axis=1).select_dtypes(include='object').columns\n",
    "numeric_columns = bank_df.select_dtypes(include=np.number).columns"
   ]
  },
  {
   "cell_type": "code",
   "execution_count": 3,
   "id": "4c8a99b8",
   "metadata": {},
   "outputs": [
    {
     "data": {
      "text/plain": [
       "Index(['Gender', 'Education_Level', 'Marital_Status', 'Income_Category',\n",
       "       'Card_Category'],\n",
       "      dtype='object')"
      ]
     },
     "execution_count": 3,
     "metadata": {},
     "output_type": "execute_result"
    }
   ],
   "source": [
    "cat_columns"
   ]
  },
  {
   "cell_type": "code",
   "execution_count": 4,
   "id": "928da8fe",
   "metadata": {},
   "outputs": [
    {
     "data": {
      "text/plain": [
       "Index(['Customer_Age', 'Dependent_count', 'Months_on_book',\n",
       "       'Total_Relationship_Count', 'Months_Inactive_12_mon',\n",
       "       'Contacts_Count_12_mon', 'Credit_Limit', 'Total_Revolving_Bal',\n",
       "       'Avg_Open_To_Buy', 'Total_Amt_Chng_Q4_Q1', 'Total_Trans_Amt',\n",
       "       'Total_Trans_Ct', 'Total_Ct_Chng_Q4_Q1', 'Avg_Utilization_Ratio'],\n",
       "      dtype='object')"
      ]
     },
     "execution_count": 4,
     "metadata": {},
     "output_type": "execute_result"
    }
   ],
   "source": [
    "numeric_columns"
   ]
  },
  {
   "cell_type": "markdown",
   "id": "4673dd1d",
   "metadata": {},
   "source": [
    "Vemos cuantas categorias diferentes tenemos para cada variable"
   ]
  },
  {
   "cell_type": "code",
   "execution_count": 5,
   "id": "748581f5",
   "metadata": {},
   "outputs": [
    {
     "data": {
      "text/html": [
       "<div>\n",
       "<style scoped>\n",
       "    .dataframe tbody tr th:only-of-type {\n",
       "        vertical-align: middle;\n",
       "    }\n",
       "\n",
       "    .dataframe tbody tr th {\n",
       "        vertical-align: top;\n",
       "    }\n",
       "\n",
       "    .dataframe thead th {\n",
       "        text-align: right;\n",
       "    }\n",
       "</style>\n",
       "<table border=\"1\" class=\"dataframe\">\n",
       "  <thead>\n",
       "    <tr style=\"text-align: right;\">\n",
       "      <th></th>\n",
       "      <th>feature</th>\n",
       "      <th>cantidad</th>\n",
       "      <th>valores</th>\n",
       "    </tr>\n",
       "  </thead>\n",
       "  <tbody>\n",
       "    <tr>\n",
       "      <th>0</th>\n",
       "      <td>Gender</td>\n",
       "      <td>2</td>\n",
       "      <td>[M, F]</td>\n",
       "    </tr>\n",
       "    <tr>\n",
       "      <th>1</th>\n",
       "      <td>Education_Level</td>\n",
       "      <td>7</td>\n",
       "      <td>[High School, Graduate, Uneducated, Unknown, C...</td>\n",
       "    </tr>\n",
       "    <tr>\n",
       "      <th>2</th>\n",
       "      <td>Marital_Status</td>\n",
       "      <td>4</td>\n",
       "      <td>[Married, Single, Unknown, Divorced]</td>\n",
       "    </tr>\n",
       "    <tr>\n",
       "      <th>3</th>\n",
       "      <td>Income_Category</td>\n",
       "      <td>6</td>\n",
       "      <td>[$60K - $80K, Less than $40K, $80K - $120K, $4...</td>\n",
       "    </tr>\n",
       "    <tr>\n",
       "      <th>4</th>\n",
       "      <td>Card_Category</td>\n",
       "      <td>4</td>\n",
       "      <td>[Blue, Gold, Silver, Platinum]</td>\n",
       "    </tr>\n",
       "  </tbody>\n",
       "</table>\n",
       "</div>"
      ],
      "text/plain": [
       "           feature  cantidad  \\\n",
       "0           Gender         2   \n",
       "1  Education_Level         7   \n",
       "2   Marital_Status         4   \n",
       "3  Income_Category         6   \n",
       "4    Card_Category         4   \n",
       "\n",
       "                                             valores  \n",
       "0                                             [M, F]  \n",
       "1  [High School, Graduate, Uneducated, Unknown, C...  \n",
       "2               [Married, Single, Unknown, Divorced]  \n",
       "3  [$60K - $80K, Less than $40K, $80K - $120K, $4...  \n",
       "4                     [Blue, Gold, Silver, Platinum]  "
      ]
     },
     "execution_count": 5,
     "metadata": {},
     "output_type": "execute_result"
    }
   ],
   "source": [
    "lista = []\n",
    "for col in cat_columns:\n",
    "  info = (col, bank_df[col].nunique(), bank_df[col].unique() )\n",
    "  lista.append(info)\n",
    "pd.DataFrame(lista, columns=['feature', 'cantidad', 'valores'])"
   ]
  },
  {
   "cell_type": "markdown",
   "id": "d35f2734",
   "metadata": {},
   "source": [
    "En funcion de esto y de la naturaleza de las mismas, decidimos codificarlas de la siguiente forma. El nivel de educacion, nivel de ingresos y categoria de tarjeta de credito, lo codificamos con un label encoder ya que pueden ordenarse. Y las otras dos variables, que son genero y estado civil los clasificamos con un OHE ya que no tiene un ordenamiento. "
   ]
  },
  {
   "cell_type": "code",
   "execution_count": 6,
   "id": "22657b94",
   "metadata": {},
   "outputs": [
    {
     "data": {
      "text/plain": [
       "Existing Customer    0.83934\n",
       "Attrited Customer    0.16066\n",
       "Name: Attrition_Flag, dtype: float64"
      ]
     },
     "execution_count": 6,
     "metadata": {},
     "output_type": "execute_result"
    }
   ],
   "source": [
    "bank_df.Attrition_Flag.value_counts(normalize=True)"
   ]
  },
  {
   "cell_type": "raw",
   "id": "8bdca2af",
   "metadata": {},
   "source": [
    "Tambien observamos que los clientes que dejan el servicio son un porcentaje muy bajo del total, por lo que va a ser necesario dividir los conjuntos de manera estratificada. "
   ]
  },
  {
   "cell_type": "code",
   "execution_count": 7,
   "id": "577727e5",
   "metadata": {},
   "outputs": [],
   "source": [
    "X = bank_df.drop('Attrition_Flag',axis=1)\n",
    "y = bank_df['Attrition_Flag']"
   ]
  },
  {
   "cell_type": "code",
   "execution_count": 8,
   "id": "b66b0052",
   "metadata": {},
   "outputs": [],
   "source": [
    "X_train , X_test , y_train , y_test = train_test_split(X,y,test_size = 0.2 , random_state =7 ,stratify = y)"
   ]
  },
  {
   "cell_type": "code",
   "execution_count": 9,
   "id": "28448f92",
   "metadata": {},
   "outputs": [
    {
     "data": {
      "text/plain": [
       "array(['College', 'Graduate', 'Unknown', 'High School', 'Post-Graduate',\n",
       "       'Doctorate', 'Uneducated'], dtype=object)"
      ]
     },
     "execution_count": 9,
     "metadata": {},
     "output_type": "execute_result"
    }
   ],
   "source": [
    "X_train['Education_Level'].unique()"
   ]
  },
  {
   "cell_type": "code",
   "execution_count": 10,
   "id": "b53eb005",
   "metadata": {
    "scrolled": true
   },
   "outputs": [
    {
     "data": {
      "text/plain": [
       "array(['Less than $40K', '$40K - $60K', '$60K - $80K', '$80K - $120K',\n",
       "       '$120K +', 'Unknown'], dtype=object)"
      ]
     },
     "execution_count": 10,
     "metadata": {},
     "output_type": "execute_result"
    }
   ],
   "source": [
    "X_train['Income_Category'].unique()"
   ]
  },
  {
   "cell_type": "code",
   "execution_count": 11,
   "id": "fbd2cc05",
   "metadata": {},
   "outputs": [],
   "source": [
    "from sklearn.preprocessing import OrdinalEncoder\n",
    "from sklearn.preprocessing import OneHotEncoder"
   ]
  },
  {
   "cell_type": "markdown",
   "id": "b31a9390",
   "metadata": {},
   "source": [
    "Este sera el ordenamiento que le vamos a dar a las variables cateogricas en el OrdinalEncoder"
   ]
  },
  {
   "cell_type": "code",
   "execution_count": 12,
   "id": "a1fcb512",
   "metadata": {},
   "outputs": [],
   "source": [
    "orden_educacion = ['Unknown','Uneducated','Graduate','Post-Graduate','High School','College','Doctorate']\n",
    "orden_income_cat = ['Unknown','Less than $40K','$40K - $60K','$60K - $80K','$80K - $120K','$120K +']\n",
    "orden_card_cat = ['Blue','Silver','Gold','Platinum']"
   ]
  },
  {
   "cell_type": "code",
   "execution_count": 13,
   "id": "c69ad801",
   "metadata": {},
   "outputs": [],
   "source": [
    "enc_ordenado = OrdinalEncoder(categories=[orden_educacion,orden_income_cat,orden_card_cat])"
   ]
  },
  {
   "cell_type": "code",
   "execution_count": 14,
   "id": "377be52c",
   "metadata": {},
   "outputs": [
    {
     "data": {
      "text/html": [
       "<style>#sk-container-id-1 {color: black;background-color: white;}#sk-container-id-1 pre{padding: 0;}#sk-container-id-1 div.sk-toggleable {background-color: white;}#sk-container-id-1 label.sk-toggleable__label {cursor: pointer;display: block;width: 100%;margin-bottom: 0;padding: 0.3em;box-sizing: border-box;text-align: center;}#sk-container-id-1 label.sk-toggleable__label-arrow:before {content: \"▸\";float: left;margin-right: 0.25em;color: #696969;}#sk-container-id-1 label.sk-toggleable__label-arrow:hover:before {color: black;}#sk-container-id-1 div.sk-estimator:hover label.sk-toggleable__label-arrow:before {color: black;}#sk-container-id-1 div.sk-toggleable__content {max-height: 0;max-width: 0;overflow: hidden;text-align: left;background-color: #f0f8ff;}#sk-container-id-1 div.sk-toggleable__content pre {margin: 0.2em;color: black;border-radius: 0.25em;background-color: #f0f8ff;}#sk-container-id-1 input.sk-toggleable__control:checked~div.sk-toggleable__content {max-height: 200px;max-width: 100%;overflow: auto;}#sk-container-id-1 input.sk-toggleable__control:checked~label.sk-toggleable__label-arrow:before {content: \"▾\";}#sk-container-id-1 div.sk-estimator input.sk-toggleable__control:checked~label.sk-toggleable__label {background-color: #d4ebff;}#sk-container-id-1 div.sk-label input.sk-toggleable__control:checked~label.sk-toggleable__label {background-color: #d4ebff;}#sk-container-id-1 input.sk-hidden--visually {border: 0;clip: rect(1px 1px 1px 1px);clip: rect(1px, 1px, 1px, 1px);height: 1px;margin: -1px;overflow: hidden;padding: 0;position: absolute;width: 1px;}#sk-container-id-1 div.sk-estimator {font-family: monospace;background-color: #f0f8ff;border: 1px dotted black;border-radius: 0.25em;box-sizing: border-box;margin-bottom: 0.5em;}#sk-container-id-1 div.sk-estimator:hover {background-color: #d4ebff;}#sk-container-id-1 div.sk-parallel-item::after {content: \"\";width: 100%;border-bottom: 1px solid gray;flex-grow: 1;}#sk-container-id-1 div.sk-label:hover label.sk-toggleable__label {background-color: #d4ebff;}#sk-container-id-1 div.sk-serial::before {content: \"\";position: absolute;border-left: 1px solid gray;box-sizing: border-box;top: 0;bottom: 0;left: 50%;z-index: 0;}#sk-container-id-1 div.sk-serial {display: flex;flex-direction: column;align-items: center;background-color: white;padding-right: 0.2em;padding-left: 0.2em;position: relative;}#sk-container-id-1 div.sk-item {position: relative;z-index: 1;}#sk-container-id-1 div.sk-parallel {display: flex;align-items: stretch;justify-content: center;background-color: white;position: relative;}#sk-container-id-1 div.sk-item::before, #sk-container-id-1 div.sk-parallel-item::before {content: \"\";position: absolute;border-left: 1px solid gray;box-sizing: border-box;top: 0;bottom: 0;left: 50%;z-index: -1;}#sk-container-id-1 div.sk-parallel-item {display: flex;flex-direction: column;z-index: 1;position: relative;background-color: white;}#sk-container-id-1 div.sk-parallel-item:first-child::after {align-self: flex-end;width: 50%;}#sk-container-id-1 div.sk-parallel-item:last-child::after {align-self: flex-start;width: 50%;}#sk-container-id-1 div.sk-parallel-item:only-child::after {width: 0;}#sk-container-id-1 div.sk-dashed-wrapped {border: 1px dashed gray;margin: 0 0.4em 0.5em 0.4em;box-sizing: border-box;padding-bottom: 0.4em;background-color: white;}#sk-container-id-1 div.sk-label label {font-family: monospace;font-weight: bold;display: inline-block;line-height: 1.2em;}#sk-container-id-1 div.sk-label-container {text-align: center;}#sk-container-id-1 div.sk-container {/* jupyter's `normalize.less` sets `[hidden] { display: none; }` but bootstrap.min.css set `[hidden] { display: none !important; }` so we also need the `!important` here to be able to override the default hidden behavior on the sphinx rendered scikit-learn.org. See: https://github.com/scikit-learn/scikit-learn/issues/21755 */display: inline-block !important;position: relative;}#sk-container-id-1 div.sk-text-repr-fallback {display: none;}</style><div id=\"sk-container-id-1\" class=\"sk-top-container\"><div class=\"sk-text-repr-fallback\"><pre>OrdinalEncoder(categories=[[&#x27;Unknown&#x27;, &#x27;Uneducated&#x27;, &#x27;Graduate&#x27;,\n",
       "                            &#x27;Post-Graduate&#x27;, &#x27;High School&#x27;, &#x27;College&#x27;,\n",
       "                            &#x27;Doctorate&#x27;],\n",
       "                           [&#x27;Unknown&#x27;, &#x27;Less than $40K&#x27;, &#x27;$40K - $60K&#x27;,\n",
       "                            &#x27;$60K - $80K&#x27;, &#x27;$80K - $120K&#x27;, &#x27;$120K +&#x27;],\n",
       "                           [&#x27;Blue&#x27;, &#x27;Silver&#x27;, &#x27;Gold&#x27;, &#x27;Platinum&#x27;]])</pre><b>In a Jupyter environment, please rerun this cell to show the HTML representation or trust the notebook. <br />On GitHub, the HTML representation is unable to render, please try loading this page with nbviewer.org.</b></div><div class=\"sk-container\" hidden><div class=\"sk-item\"><div class=\"sk-estimator sk-toggleable\"><input class=\"sk-toggleable__control sk-hidden--visually\" id=\"sk-estimator-id-1\" type=\"checkbox\" checked><label for=\"sk-estimator-id-1\" class=\"sk-toggleable__label sk-toggleable__label-arrow\">OrdinalEncoder</label><div class=\"sk-toggleable__content\"><pre>OrdinalEncoder(categories=[[&#x27;Unknown&#x27;, &#x27;Uneducated&#x27;, &#x27;Graduate&#x27;,\n",
       "                            &#x27;Post-Graduate&#x27;, &#x27;High School&#x27;, &#x27;College&#x27;,\n",
       "                            &#x27;Doctorate&#x27;],\n",
       "                           [&#x27;Unknown&#x27;, &#x27;Less than $40K&#x27;, &#x27;$40K - $60K&#x27;,\n",
       "                            &#x27;$60K - $80K&#x27;, &#x27;$80K - $120K&#x27;, &#x27;$120K +&#x27;],\n",
       "                           [&#x27;Blue&#x27;, &#x27;Silver&#x27;, &#x27;Gold&#x27;, &#x27;Platinum&#x27;]])</pre></div></div></div></div></div>"
      ],
      "text/plain": [
       "OrdinalEncoder(categories=[['Unknown', 'Uneducated', 'Graduate',\n",
       "                            'Post-Graduate', 'High School', 'College',\n",
       "                            'Doctorate'],\n",
       "                           ['Unknown', 'Less than $40K', '$40K - $60K',\n",
       "                            '$60K - $80K', '$80K - $120K', '$120K +'],\n",
       "                           ['Blue', 'Silver', 'Gold', 'Platinum']])"
      ]
     },
     "execution_count": 14,
     "metadata": {},
     "output_type": "execute_result"
    }
   ],
   "source": [
    "enc_ordenado.fit(X_train[['Education_Level','Income_Category','Card_Category']])"
   ]
  },
  {
   "cell_type": "code",
   "execution_count": 15,
   "id": "a1f35f1a",
   "metadata": {},
   "outputs": [],
   "source": [
    "X_train_t1 = X_train.copy()"
   ]
  },
  {
   "cell_type": "code",
   "execution_count": 16,
   "id": "7e9187dc",
   "metadata": {},
   "outputs": [],
   "source": [
    "X_train_t1[['Education_Level','Income_Category','Card_Category']] = enc_ordenado.transform(X_train[['Education_Level','Income_Category','Card_Category']])"
   ]
  },
  {
   "cell_type": "markdown",
   "id": "78ae90df",
   "metadata": {},
   "source": [
    "Y estas seran las variables que quedan que no son numericas. Las mismas seran codificadas mediante un OHE"
   ]
  },
  {
   "cell_type": "code",
   "execution_count": 17,
   "id": "fdfd1a7d",
   "metadata": {},
   "outputs": [
    {
     "data": {
      "text/plain": [
       "Index(['Gender', 'Marital_Status'], dtype='object')"
      ]
     },
     "execution_count": 17,
     "metadata": {},
     "output_type": "execute_result"
    }
   ],
   "source": [
    "X_train_t1.select_dtypes(include='object').columns"
   ]
  },
  {
   "cell_type": "code",
   "execution_count": 18,
   "id": "107cd238",
   "metadata": {},
   "outputs": [],
   "source": [
    "ohe = OneHotEncoder(drop='first')"
   ]
  },
  {
   "cell_type": "code",
   "execution_count": 19,
   "id": "e2b22cc7",
   "metadata": {},
   "outputs": [
    {
     "data": {
      "text/html": [
       "<style>#sk-container-id-2 {color: black;background-color: white;}#sk-container-id-2 pre{padding: 0;}#sk-container-id-2 div.sk-toggleable {background-color: white;}#sk-container-id-2 label.sk-toggleable__label {cursor: pointer;display: block;width: 100%;margin-bottom: 0;padding: 0.3em;box-sizing: border-box;text-align: center;}#sk-container-id-2 label.sk-toggleable__label-arrow:before {content: \"▸\";float: left;margin-right: 0.25em;color: #696969;}#sk-container-id-2 label.sk-toggleable__label-arrow:hover:before {color: black;}#sk-container-id-2 div.sk-estimator:hover label.sk-toggleable__label-arrow:before {color: black;}#sk-container-id-2 div.sk-toggleable__content {max-height: 0;max-width: 0;overflow: hidden;text-align: left;background-color: #f0f8ff;}#sk-container-id-2 div.sk-toggleable__content pre {margin: 0.2em;color: black;border-radius: 0.25em;background-color: #f0f8ff;}#sk-container-id-2 input.sk-toggleable__control:checked~div.sk-toggleable__content {max-height: 200px;max-width: 100%;overflow: auto;}#sk-container-id-2 input.sk-toggleable__control:checked~label.sk-toggleable__label-arrow:before {content: \"▾\";}#sk-container-id-2 div.sk-estimator input.sk-toggleable__control:checked~label.sk-toggleable__label {background-color: #d4ebff;}#sk-container-id-2 div.sk-label input.sk-toggleable__control:checked~label.sk-toggleable__label {background-color: #d4ebff;}#sk-container-id-2 input.sk-hidden--visually {border: 0;clip: rect(1px 1px 1px 1px);clip: rect(1px, 1px, 1px, 1px);height: 1px;margin: -1px;overflow: hidden;padding: 0;position: absolute;width: 1px;}#sk-container-id-2 div.sk-estimator {font-family: monospace;background-color: #f0f8ff;border: 1px dotted black;border-radius: 0.25em;box-sizing: border-box;margin-bottom: 0.5em;}#sk-container-id-2 div.sk-estimator:hover {background-color: #d4ebff;}#sk-container-id-2 div.sk-parallel-item::after {content: \"\";width: 100%;border-bottom: 1px solid gray;flex-grow: 1;}#sk-container-id-2 div.sk-label:hover label.sk-toggleable__label {background-color: #d4ebff;}#sk-container-id-2 div.sk-serial::before {content: \"\";position: absolute;border-left: 1px solid gray;box-sizing: border-box;top: 0;bottom: 0;left: 50%;z-index: 0;}#sk-container-id-2 div.sk-serial {display: flex;flex-direction: column;align-items: center;background-color: white;padding-right: 0.2em;padding-left: 0.2em;position: relative;}#sk-container-id-2 div.sk-item {position: relative;z-index: 1;}#sk-container-id-2 div.sk-parallel {display: flex;align-items: stretch;justify-content: center;background-color: white;position: relative;}#sk-container-id-2 div.sk-item::before, #sk-container-id-2 div.sk-parallel-item::before {content: \"\";position: absolute;border-left: 1px solid gray;box-sizing: border-box;top: 0;bottom: 0;left: 50%;z-index: -1;}#sk-container-id-2 div.sk-parallel-item {display: flex;flex-direction: column;z-index: 1;position: relative;background-color: white;}#sk-container-id-2 div.sk-parallel-item:first-child::after {align-self: flex-end;width: 50%;}#sk-container-id-2 div.sk-parallel-item:last-child::after {align-self: flex-start;width: 50%;}#sk-container-id-2 div.sk-parallel-item:only-child::after {width: 0;}#sk-container-id-2 div.sk-dashed-wrapped {border: 1px dashed gray;margin: 0 0.4em 0.5em 0.4em;box-sizing: border-box;padding-bottom: 0.4em;background-color: white;}#sk-container-id-2 div.sk-label label {font-family: monospace;font-weight: bold;display: inline-block;line-height: 1.2em;}#sk-container-id-2 div.sk-label-container {text-align: center;}#sk-container-id-2 div.sk-container {/* jupyter's `normalize.less` sets `[hidden] { display: none; }` but bootstrap.min.css set `[hidden] { display: none !important; }` so we also need the `!important` here to be able to override the default hidden behavior on the sphinx rendered scikit-learn.org. See: https://github.com/scikit-learn/scikit-learn/issues/21755 */display: inline-block !important;position: relative;}#sk-container-id-2 div.sk-text-repr-fallback {display: none;}</style><div id=\"sk-container-id-2\" class=\"sk-top-container\"><div class=\"sk-text-repr-fallback\"><pre>OneHotEncoder(drop=&#x27;first&#x27;)</pre><b>In a Jupyter environment, please rerun this cell to show the HTML representation or trust the notebook. <br />On GitHub, the HTML representation is unable to render, please try loading this page with nbviewer.org.</b></div><div class=\"sk-container\" hidden><div class=\"sk-item\"><div class=\"sk-estimator sk-toggleable\"><input class=\"sk-toggleable__control sk-hidden--visually\" id=\"sk-estimator-id-2\" type=\"checkbox\" checked><label for=\"sk-estimator-id-2\" class=\"sk-toggleable__label sk-toggleable__label-arrow\">OneHotEncoder</label><div class=\"sk-toggleable__content\"><pre>OneHotEncoder(drop=&#x27;first&#x27;)</pre></div></div></div></div></div>"
      ],
      "text/plain": [
       "OneHotEncoder(drop='first')"
      ]
     },
     "execution_count": 19,
     "metadata": {},
     "output_type": "execute_result"
    }
   ],
   "source": [
    "ohe.fit(X_train_t1[['Gender','Marital_Status']])"
   ]
  },
  {
   "cell_type": "markdown",
   "id": "8a6616dd",
   "metadata": {},
   "source": [
    "Estas que vemos a continuacion son las columnas de salida"
   ]
  },
  {
   "cell_type": "code",
   "execution_count": 20,
   "id": "6f7b41f2",
   "metadata": {},
   "outputs": [
    {
     "data": {
      "text/plain": [
       "array(['Gender_M', 'Marital_Status_Married', 'Marital_Status_Single',\n",
       "       'Marital_Status_Unknown'], dtype=object)"
      ]
     },
     "execution_count": 20,
     "metadata": {},
     "output_type": "execute_result"
    }
   ],
   "source": [
    "ohe.get_feature_names_out(['Gender','Marital_Status'])"
   ]
  },
  {
   "cell_type": "markdown",
   "id": "40139e68",
   "metadata": {},
   "source": [
    "Creamos un DataFrame con las nuevas columnas codificadas"
   ]
  },
  {
   "cell_type": "code",
   "execution_count": 21,
   "id": "7b6cd0ab",
   "metadata": {},
   "outputs": [],
   "source": [
    "enc_data = pd.DataFrame(ohe.fit_transform(X_train_t1[['Gender','Marital_Status']]).toarray(),\n",
    "                        columns=ohe.get_feature_names_out(['Gender','Marital_Status']),\n",
    "                        index=X_train.index)"
   ]
  },
  {
   "cell_type": "markdown",
   "id": "74f2f89b",
   "metadata": {},
   "source": [
    "Luego creamos un nuevo DataFrame de training, uniendo el DataFrame anterior, con el generado por el OHE. Junto con esto, dropeamos las columas que ahora se encuentran codificadas ('Gender','Marital_Status')"
   ]
  },
  {
   "cell_type": "code",
   "execution_count": 22,
   "id": "b70ef4cb",
   "metadata": {},
   "outputs": [],
   "source": [
    "X_train_t2 = X_train_t1.join(enc_data).drop(columns=['Gender','Marital_Status'])"
   ]
  },
  {
   "cell_type": "markdown",
   "id": "00f16a56",
   "metadata": {},
   "source": [
    "Hacemos lo mismo con los datos de test"
   ]
  },
  {
   "cell_type": "code",
   "execution_count": 23,
   "id": "e982ed1e",
   "metadata": {},
   "outputs": [],
   "source": [
    "X_test_t1 = X_test.copy()\n",
    "X_test_t1[['Education_Level','Income_Category','Card_Category']] = enc_ordenado.transform(X_test[['Education_Level','Income_Category','Card_Category']])"
   ]
  },
  {
   "cell_type": "code",
   "execution_count": 24,
   "id": "38a3551f",
   "metadata": {},
   "outputs": [],
   "source": [
    "enc_data_2 = pd.DataFrame(ohe.fit_transform(X_test_t1[['Gender','Marital_Status']]).toarray(),\n",
    "                          columns=ohe.get_feature_names_out(['Gender','Marital_Status'])\n",
    "                          ,index=X_test.index)\n",
    "X_test_t2 = X_test_t1.join(enc_data_2).drop(columns=['Gender','Marital_Status'])"
   ]
  },
  {
   "cell_type": "markdown",
   "id": "0eda3fda",
   "metadata": {},
   "source": [
    "Hacemos lo mismos con los Y"
   ]
  },
  {
   "cell_type": "code",
   "execution_count": 25,
   "id": "73c177db",
   "metadata": {},
   "outputs": [],
   "source": [
    "y_train = y_train.replace({'Attrited Customer':1,'Existing Customer':0})"
   ]
  },
  {
   "cell_type": "code",
   "execution_count": 26,
   "id": "b04232fe",
   "metadata": {},
   "outputs": [],
   "source": [
    "y_test = y_test.replace({'Attrited Customer':1,'Existing Customer':0})"
   ]
  },
  {
   "cell_type": "code",
   "execution_count": 27,
   "id": "285d98dc",
   "metadata": {},
   "outputs": [],
   "source": [
    "log_reg = LogisticRegression(max_iter=800,n_jobs=-1)\n",
    "log_reg.fit(X_train_t2,y_train)\n",
    "pred_log_reg = log_reg.predict(X_test_t2)"
   ]
  },
  {
   "cell_type": "markdown",
   "id": "e038890f",
   "metadata": {},
   "source": [
    "## Resultados LogisticRegression"
   ]
  },
  {
   "cell_type": "code",
   "execution_count": 28,
   "id": "7024bd9d",
   "metadata": {},
   "outputs": [
    {
     "name": "stdout",
     "output_type": "stream",
     "text": [
      "              precision    recall  f1-score   support\n",
      "\n",
      "           0       0.90      0.97      0.94      1701\n",
      "           1       0.74      0.45      0.56       325\n",
      "\n",
      "    accuracy                           0.89      2026\n",
      "   macro avg       0.82      0.71      0.75      2026\n",
      "weighted avg       0.88      0.89      0.88      2026\n",
      "\n"
     ]
    }
   ],
   "source": [
    "print(classification_report(y_test, pred_log_reg))"
   ]
  },
  {
   "cell_type": "code",
   "execution_count": 29,
   "id": "c32bc581",
   "metadata": {},
   "outputs": [
    {
     "data": {
      "image/png": "[encoded data removed]",
      "text/plain": [
       "<Figure size 640x480 with 2 Axes>"
      ]
     },
     "metadata": {},
     "output_type": "display_data"
    }
   ],
   "source": [
    "#Matriz de confusion\n",
    "cf_matrix = confusion_matrix(y_test, pred_log_reg)\n",
    "ax = sns.heatmap(cf_matrix, annot=True, cmap='Blues',fmt='.1f')\n",
    "ax.set_title('Matriz de confusion con labels\\n\\n');\n",
    "ax.set_xlabel('\\nValores predichos')\n",
    "ax.set_ylabel('Valores reales ');\n",
    "ax.xaxis.set_ticklabels(['False','True'])\n",
    "ax.yaxis.set_ticklabels(['False','True'])\n",
    "plt.show()"
   ]
  },
  {
   "cell_type": "markdown",
   "id": "f2b7e883",
   "metadata": {},
   "source": [
    "## Resultados KNeighborsClassifier"
   ]
  },
  {
   "cell_type": "code",
   "execution_count": 30,
   "id": "d17c4996",
   "metadata": {},
   "outputs": [
    {
     "name": "stdout",
     "output_type": "stream",
     "text": [
      "              precision    recall  f1-score   support\n",
      "\n",
      "           0       0.92      0.96      0.94      1701\n",
      "           1       0.74      0.55      0.63       325\n",
      "\n",
      "    accuracy                           0.90      2026\n",
      "   macro avg       0.83      0.76      0.78      2026\n",
      "weighted avg       0.89      0.90      0.89      2026\n",
      "\n"
     ]
    }
   ],
   "source": [
    "knn = KNeighborsClassifier(n_neighbors=9) # Instanciamos el clasificador k veces es decir k vecinos cercanos\n",
    "knn.fit(X_train_t2, y_train)\n",
    "predicciones_knn = knn.predict(X_test_t2)\n",
    "print(classification_report(y_test, predicciones_knn))"
   ]
  },
  {
   "cell_type": "code",
   "execution_count": 31,
   "id": "8c7ab10e",
   "metadata": {},
   "outputs": [
    {
     "data": {
      "image/png": "[encoded data removed]",
      "text/plain": [
       "<Figure size 640x480 with 2 Axes>"
      ]
     },
     "metadata": {},
     "output_type": "display_data"
    }
   ],
   "source": [
    "#Matriz de confusion\n",
    "cf_matrix = confusion_matrix(y_test, predicciones_knn)\n",
    "ax = sns.heatmap(cf_matrix, annot=True, cmap='Blues',fmt='.1f')\n",
    "ax.set_title('Matriz de confusion con labels\\n\\n');\n",
    "ax.set_xlabel('\\nValores predichos')\n",
    "ax.set_ylabel('Valores reales ');\n",
    "ax.xaxis.set_ticklabels(['False','True'])\n",
    "ax.yaxis.set_ticklabels(['False','True'])\n",
    "plt.show()"
   ]
  },
  {
   "cell_type": "markdown",
   "id": "1bd0e0aa",
   "metadata": {},
   "source": [
    "## Resultados RandomForestClassifier"
   ]
  },
  {
   "cell_type": "code",
   "execution_count": 32,
   "id": "e19b68d5",
   "metadata": {},
   "outputs": [],
   "source": [
    "clf = RandomForestClassifier(n_estimators = 100,\n",
    "                             max_depth=5, \n",
    "                             random_state=0,\n",
    "                             criterion = 'gini')\n",
    "clf.fit(X_train_t2, y_train)\n",
    "y_pred_RFC = clf.predict(X_test_t2)"
   ]
  },
  {
   "cell_type": "code",
   "execution_count": 33,
   "id": "8c8d08f7",
   "metadata": {},
   "outputs": [
    {
     "name": "stdout",
     "output_type": "stream",
     "text": [
      "              precision    recall  f1-score   support\n",
      "\n",
      "           0       0.92      0.99      0.95      1701\n",
      "           1       0.91      0.54      0.68       325\n",
      "\n",
      "    accuracy                           0.92      2026\n",
      "   macro avg       0.91      0.76      0.81      2026\n",
      "weighted avg       0.92      0.92      0.91      2026\n",
      "\n"
     ]
    }
   ],
   "source": [
    "print(classification_report(y_test, y_pred_RFC))"
   ]
  },
  {
   "cell_type": "code",
   "execution_count": 34,
   "id": "ea6122c4",
   "metadata": {},
   "outputs": [
    {
     "data": {
      "image/png": "[encoded data removed]",
      "text/plain": [
       "<Figure size 640x480 with 2 Axes>"
      ]
     },
     "metadata": {},
     "output_type": "display_data"
    }
   ],
   "source": [
    "#Matriz de confusion\n",
    "cf_matrix = confusion_matrix(y_test, y_pred_RFC)\n",
    "ax = sns.heatmap(cf_matrix, annot=True, cmap='Blues',fmt='.1f')\n",
    "ax.set_title('Matriz de confusion con labels\\n\\n');\n",
    "ax.set_xlabel('\\nValores predichos')\n",
    "ax.set_ylabel('Valores reales ');\n",
    "ax.xaxis.set_ticklabels(['False','True'])\n",
    "ax.yaxis.set_ticklabels(['False','True'])\n",
    "plt.show()"
   ]
  },
  {
   "cell_type": "code",
   "execution_count": null,
   "id": "a1f88281",
   "metadata": {},
   "outputs": [],
   "source": []
  }
 ],
 "metadata": {
  "kernelspec": {
   "display_name": "Python 3 (ipykernel)",
   "language": "python",
   "name": "python3"
  },
  "language_info": {
   "codemirror_mode": {
    "name": "ipython",
    "version": 3
   },
   "file_extension": ".py",
   "mimetype": "text/x-python",
   "name": "python",
   "nbconvert_exporter": "python",
   "pygments_lexer": "ipython3",
   "version": "3.9.7"
  }
 },
 "nbformat": 4,
 "nbformat_minor": 5
}
