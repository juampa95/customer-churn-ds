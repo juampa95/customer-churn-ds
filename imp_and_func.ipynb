{
 "cells": [
  {
   "cell_type": "markdown",
   "id": "61938b8b",
   "metadata": {},
   "source": [
    "# Importación de las librerias necesarias"
   ]
  },
  {
   "cell_type": "code",
   "execution_count": 1,
   "id": "ed3b8923",
   "metadata": {},
   "outputs": [],
   "source": [
    "import pandas as pd\n",
    "import matplotlib.pyplot as plt\n",
    "import seaborn as sns\n",
    "from sklearn.linear_model import LogisticRegression\n",
    "import numpy as np\n",
    "import pandas as pd\n",
    "import matplotlib.pyplot as plt\n",
    "from scipy import stats\n",
    "from sklearn.ensemble import (RandomForestClassifier, \n",
    "                              GradientBoostingClassifier, \n",
    "                              GradientBoostingRegressor)\n",
    "\n",
    "from sklearn.metrics import ( \n",
    "    accuracy_score, \n",
    "    precision_score, \n",
    "    recall_score, \n",
    "    f1_score, \n",
    "    classification_report, \n",
    "    roc_auc_score,\n",
    "    mean_squared_error,\n",
    "    confusion_matrix)\n",
    "\n",
    "\n",
    "from sklearn.neighbors import KNeighborsClassifier\n",
    "from sklearn.experimental import enable_halving_search_cv  # noqa\n",
    "\n",
    "from sklearn.model_selection import (\n",
    "    KFold,\n",
    "    cross_validate,\n",
    "    train_test_split,\n",
    "    GridSearchCV,\n",
    "    RandomizedSearchCV,\n",
    "    HalvingGridSearchCV,\n",
    "    StratifiedKFold)\n",
    "\n",
    "from sklearn.preprocessing import LabelEncoder\n",
    "from sklearn.cluster import AgglomerativeClustering\n",
    "import scipy.cluster.hierarchy as sch"
   ]
  },
  {
   "cell_type": "markdown",
   "id": "efda3531",
   "metadata": {},
   "source": [
    "# Funciones que se van a utilizar"
   ]
  },
  {
   "cell_type": "code",
   "execution_count": 2,
   "id": "60438b1f",
   "metadata": {},
   "outputs": [],
   "source": [
    "def parejas(df):\n",
    "    '''Obtiene diagonal inferior de parejas en matriz de correlacion'''\n",
    "    pairs_to_drop = set()\n",
    "    cols = df.columns\n",
    "    for i in range(0, df.shape[1]):\n",
    "        for j in range(0, i+1):\n",
    "            pairs_to_drop.add((cols[i], cols[j]))\n",
    "    return pairs_to_drop"
   ]
  },
  {
   "cell_type": "code",
   "execution_count": 3,
   "id": "5dcb8c61",
   "metadata": {},
   "outputs": [],
   "source": [
    "def correlaciones(data, n=5):\n",
    "    au_corr = data.corr().abs().unstack()\n",
    "    labels_to_drop = parejas(data)\n",
    "    au_corr = au_corr.drop(labels=labels_to_drop).sort_values(ascending=False)\n",
    "    return au_corr[0:n]"
   ]
  },
  {
   "cell_type": "code",
   "execution_count": 31,
   "id": "f2375216",
   "metadata": {},
   "outputs": [],
   "source": [
    "def hist_box(variable,agrupado):\n",
    "    fig,axes = plt.subplots(2,1,figsize=(15,10),\n",
    "                            sharex = True,\n",
    "                            gridspec_kw={'height_ratios':[1,3]})\n",
    "    sns.boxplot(ax = axes[0],\n",
    "                data = bank_df,\n",
    "                x = variable,\n",
    "                y = agrupado\n",
    "                )\n",
    "    sns.histplot(ax = axes[1],\n",
    "                 data  =bank_df,\n",
    "                 x = variable,\n",
    "                 hue = agrupado,\n",
    "                 kde = True,\n",
    "                 )\n",
    "    if agrupado == None: \n",
    "        plt.axvline(x=bank_df[variable].mean(), \n",
    "                   color = \"red\",\n",
    "                   linestyle = \"--\",\n",
    "                   label = \"mean\")\n",
    "        plt.axvline(x=bank_df[variable].median(), \n",
    "                   color = \"green\",\n",
    "                   linestyle = \"--\",\n",
    "                   label = 'median')\n",
    "        plt.legend(loc = 1)\n",
    "        titulo = ('HISTOGRAMA + BOXPLOT DE:',variable)\n",
    "    else:\n",
    "        titulo = ('HISTOGRAMA + BOXPLOT DE:',variable,'SEGUN TARGET')\n",
    "    plt.suptitle(titulo,fontsize=16,y = 0.9)\n",
    "    axes[0].set(xlabel=None, ylabel=None)\n",
    "    return(plt.show())"
   ]
  },
  {
   "cell_type": "code",
   "execution_count": 35,
   "id": "3fd314d8",
   "metadata": {},
   "outputs": [],
   "source": [
    "def graf_cat(variable):\n",
    "    titulo = ('Barras variables no numericas:',variable)\n",
    "    fig,axes = plt.subplots(1,2,figsize=(12,5),\n",
    "                            sharex = True)\n",
    "    sns.histplot(ax = axes[0],\n",
    "                data = bank_df,\n",
    "                x = variable\n",
    "                )\n",
    "    sns.histplot(ax = axes[1],\n",
    "                 data  =bank_df,\n",
    "                 x = variable,\n",
    "                 hue = \"Attrition_Flag\",\n",
    "                 multiple = 'fill'\n",
    "                 )\n",
    "    plt.suptitle(titulo,fontsize=16,y = 0.97)\n",
    "    ax.set(xlabel='common xlabel', ylabel='common ylabel')\n",
    "    axes[0].set_title('Histograma')\n",
    "    axes[0].set(xlabel=None, ylabel='count')\n",
    "    axes[0].tick_params(axis='x', rotation=90)\n",
    "    axes[1].set_title('Barras 100%')\n",
    "    axes[1].set(xlabel=None, ylabel='%')\n",
    "    axes[1].tick_params(axis='x', rotation=90)\n",
    "    return(plt.show())"
   ]
  },
  {
   "cell_type": "code",
   "execution_count": null,
   "id": "b97ba8cd",
   "metadata": {},
   "outputs": [],
   "source": []
  }
 ],
 "metadata": {
  "kernelspec": {
   "display_name": "Python 3 (ipykernel)",
   "language": "python",
   "name": "python3"
  },
  "language_info": {
   "codemirror_mode": {
    "name": "ipython",
    "version": 3
   },
   "file_extension": ".py",
   "mimetype": "text/x-python",
   "name": "python",
   "nbconvert_exporter": "python",
   "pygments_lexer": "ipython3",
   "version": "3.9.7"
  }
 },
 "nbformat": 4,
 "nbformat_minor": 5
}
